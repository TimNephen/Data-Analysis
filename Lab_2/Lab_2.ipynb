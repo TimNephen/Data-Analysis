{
 "cells": [
  {
   "cell_type": "markdown",
   "metadata": {},
   "source": [
    "# Lab 2"
   ]
  },
  {
   "cell_type": "code",
   "execution_count": 4,
   "metadata": {},
   "outputs": [],
   "source": [
    "import pandas as pd\n",
    "import numpy as np\n",
    "import matplotlib.pyplot as plt\n",
    "import seaborn as sns\n",
    "\n",
    "from sklearn.preprocessing import LabelEncoder"
   ]
  },
  {
   "cell_type": "markdown",
   "metadata": {},
   "source": [
    "## Import and process data"
   ]
  },
  {
   "cell_type": "code",
   "execution_count": 5,
   "metadata": {},
   "outputs": [],
   "source": [
    "data_train = pd.read_csv('train_motion_data.csv')\n",
    "data_test = pd.read_csv('test_motion_data.csv')"
   ]
  },
  {
   "cell_type": "code",
   "execution_count": 6,
   "metadata": {},
   "outputs": [
    {
     "name": "stdout",
     "output_type": "stream",
     "text": [
      "Replace some data in column Index(['Class'], dtype='object') Index(['Class'], dtype='object')\n"
     ]
    }
   ],
   "source": [
    "is_number = np.vectorize(lambda x: np.issubdtype(x, np.number))\n",
    "train_mask = is_number(data_train.dtypes)\n",
    "test_mask = is_number(data_train.dtypes)\n",
    "\n",
    "print('No gaps' if pd.api.types.is_numeric_dtype(data_train) and pd.api.types.is_numeric_dtype(data_test) else 'Replace some data in column', data_train.columns[~train_mask], data_test.columns[~test_mask])"
   ]
  },
  {
   "cell_type": "markdown",
   "metadata": {},
   "source": [
    "Replace data that first column will be a Class data"
   ]
  },
  {
   "cell_type": "code",
   "execution_count": 7,
   "metadata": {},
   "outputs": [],
   "source": [
    "data_train = data_train[['Class'] + [x for x in data_train.columns if x != 'Class']]\n",
    "data_test = data_test[['Class'] + [x for x in data_test.columns if x != 'Class']]"
   ]
  },
  {
   "cell_type": "markdown",
   "metadata": {},
   "source": [
    "Separate data for their classes"
   ]
  },
  {
   "cell_type": "code",
   "execution_count": 8,
   "metadata": {},
   "outputs": [],
   "source": [
    "train_normal = data_train.loc[data_train['Class'] == 'NORMAL']\n",
    "train_slow = data_train.loc[data_train['Class'] == 'SLOW']\n",
    "train_aggressive = data_train.loc[data_train['Class'] == 'AGGRESSIVE']\n",
    "\n",
    "test_normal = data_test.loc[data_test['Class'] == 'NORMAL']\n",
    "test_slow = data_test.loc[data_test['Class'] == 'SLOW']\n",
    "test_aggressive = data_test.loc[data_test['Class'] == 'AGGRESSIVE']"
   ]
  },
  {
   "cell_type": "markdown",
   "metadata": {},
   "source": [
    "Delete some data in swiching mode period"
   ]
  },
  {
   "cell_type": "code",
   "execution_count": 9,
   "metadata": {},
   "outputs": [],
   "source": [
    "Trash = 10\n",
    "\n",
    "train_slow = train_slow.iloc[Trash:]\n",
    "train_slow = train_slow.iloc[:-Trash]\n",
    "\n",
    "test_slow = test_slow.iloc[Trash:]\n",
    "test_slow = test_slow.iloc[:-Trash]\n",
    "\n",
    "train_normal = train_normal.iloc[Trash:]\n",
    "train_normal = train_normal.iloc[:-Trash]\n",
    "\n",
    "test_normal = test_normal.iloc[Trash:]\n",
    "test_normal = test_normal.iloc[:-Trash]\n",
    "\n",
    "train_aggressive = train_aggressive.iloc[Trash:]\n",
    "train_aggressive = train_aggressive.iloc[:-Trash]\n",
    "\n",
    "test_aggressive = test_aggressive.iloc[Trash:]\n",
    "test_aggressive = test_aggressive.iloc[:-Trash]"
   ]
  },
  {
   "cell_type": "code",
   "execution_count": 10,
   "metadata": {},
   "outputs": [
    {
     "data": {
      "text/html": [
       "<div>\n",
       "<style scoped>\n",
       "    .dataframe tbody tr th:only-of-type {\n",
       "        vertical-align: middle;\n",
       "    }\n",
       "\n",
       "    .dataframe tbody tr th {\n",
       "        vertical-align: top;\n",
       "    }\n",
       "\n",
       "    .dataframe thead th {\n",
       "        text-align: right;\n",
       "    }\n",
       "</style>\n",
       "<table border=\"1\" class=\"dataframe\">\n",
       "  <thead>\n",
       "    <tr style=\"text-align: right;\">\n",
       "      <th></th>\n",
       "      <th>AccX</th>\n",
       "      <th>AccY</th>\n",
       "      <th>AccZ</th>\n",
       "      <th>GyroX</th>\n",
       "      <th>GyroY</th>\n",
       "      <th>GyroZ</th>\n",
       "      <th>Timestamp</th>\n",
       "    </tr>\n",
       "  </thead>\n",
       "  <tbody>\n",
       "    <tr>\n",
       "      <th>count</th>\n",
       "      <td>3644.000000</td>\n",
       "      <td>3644.000000</td>\n",
       "      <td>3644.000000</td>\n",
       "      <td>3644.000000</td>\n",
       "      <td>3644.000000</td>\n",
       "      <td>3644.000000</td>\n",
       "      <td>3.644000e+03</td>\n",
       "    </tr>\n",
       "    <tr>\n",
       "      <th>mean</th>\n",
       "      <td>0.040467</td>\n",
       "      <td>-0.073418</td>\n",
       "      <td>0.008271</td>\n",
       "      <td>0.001593</td>\n",
       "      <td>-0.001273</td>\n",
       "      <td>0.007949</td>\n",
       "      <td>3.582707e+06</td>\n",
       "    </tr>\n",
       "    <tr>\n",
       "      <th>std</th>\n",
       "      <td>0.985653</td>\n",
       "      <td>0.903408</td>\n",
       "      <td>0.985061</td>\n",
       "      <td>0.066918</td>\n",
       "      <td>0.126205</td>\n",
       "      <td>0.115687</td>\n",
       "      <td>6.421479e+02</td>\n",
       "    </tr>\n",
       "    <tr>\n",
       "      <th>min</th>\n",
       "      <td>-4.636523</td>\n",
       "      <td>-4.699795</td>\n",
       "      <td>-7.143998</td>\n",
       "      <td>-0.751822</td>\n",
       "      <td>-1.587028</td>\n",
       "      <td>-1.236468</td>\n",
       "      <td>3.581629e+06</td>\n",
       "    </tr>\n",
       "    <tr>\n",
       "      <th>25%</th>\n",
       "      <td>-0.550695</td>\n",
       "      <td>-0.592540</td>\n",
       "      <td>-0.558464</td>\n",
       "      <td>-0.028558</td>\n",
       "      <td>-0.053756</td>\n",
       "      <td>-0.029398</td>\n",
       "      <td>3.582121e+06</td>\n",
       "    </tr>\n",
       "    <tr>\n",
       "      <th>50%</th>\n",
       "      <td>0.003931</td>\n",
       "      <td>-0.080833</td>\n",
       "      <td>0.002262</td>\n",
       "      <td>0.001985</td>\n",
       "      <td>-0.001833</td>\n",
       "      <td>0.002978</td>\n",
       "      <td>3.582702e+06</td>\n",
       "    </tr>\n",
       "    <tr>\n",
       "      <th>75%</th>\n",
       "      <td>0.595987</td>\n",
       "      <td>0.452401</td>\n",
       "      <td>0.556157</td>\n",
       "      <td>0.031918</td>\n",
       "      <td>0.051313</td>\n",
       "      <td>0.040852</td>\n",
       "      <td>3.583270e+06</td>\n",
       "    </tr>\n",
       "    <tr>\n",
       "      <th>max</th>\n",
       "      <td>4.985548</td>\n",
       "      <td>4.245151</td>\n",
       "      <td>5.171739</td>\n",
       "      <td>0.849255</td>\n",
       "      <td>1.679879</td>\n",
       "      <td>1.190500</td>\n",
       "      <td>3.583791e+06</td>\n",
       "    </tr>\n",
       "  </tbody>\n",
       "</table>\n",
       "</div>"
      ],
      "text/plain": [
       "              AccX         AccY         AccZ        GyroX        GyroY  \\\n",
       "count  3644.000000  3644.000000  3644.000000  3644.000000  3644.000000   \n",
       "mean      0.040467    -0.073418     0.008271     0.001593    -0.001273   \n",
       "std       0.985653     0.903408     0.985061     0.066918     0.126205   \n",
       "min      -4.636523    -4.699795    -7.143998    -0.751822    -1.587028   \n",
       "25%      -0.550695    -0.592540    -0.558464    -0.028558    -0.053756   \n",
       "50%       0.003931    -0.080833     0.002262     0.001985    -0.001833   \n",
       "75%       0.595987     0.452401     0.556157     0.031918     0.051313   \n",
       "max       4.985548     4.245151     5.171739     0.849255     1.679879   \n",
       "\n",
       "             GyroZ     Timestamp  \n",
       "count  3644.000000  3.644000e+03  \n",
       "mean      0.007949  3.582707e+06  \n",
       "std       0.115687  6.421479e+02  \n",
       "min      -1.236468  3.581629e+06  \n",
       "25%      -0.029398  3.582121e+06  \n",
       "50%       0.002978  3.582702e+06  \n",
       "75%       0.040852  3.583270e+06  \n",
       "max       1.190500  3.583791e+06  "
      ]
     },
     "execution_count": 10,
     "metadata": {},
     "output_type": "execute_result"
    }
   ],
   "source": [
    "data_train.describe()"
   ]
  },
  {
   "cell_type": "markdown",
   "metadata": {},
   "source": [
    "### Separating for traning and test dataset"
   ]
  },
  {
   "cell_type": "code",
   "execution_count": 11,
   "metadata": {},
   "outputs": [],
   "source": [
    "X_train = data_train.iloc[:, 1:7]\n",
    "Y_train = data_train.iloc[:, 0]\n",
    "X_test = data_test.iloc[:, 1:7]\n",
    "Y_test = data_test.iloc[:, 0]"
   ]
  },
  {
   "cell_type": "code",
   "execution_count": 13,
   "metadata": {},
   "outputs": [],
   "source": [
    "labelencoder_X = LabelEncoder()\n",
    "labelencoder_Y = LabelEncoder()\n",
    "\n",
    "Y_train = labelencoder_Y.fit_transform(Y_train) \n",
    "Y_test = labelencoder_Y.transform(Y_test) "
   ]
  },
  {
   "cell_type": "code",
   "execution_count": 14,
   "metadata": {},
   "outputs": [],
   "source": [
    "from sklearn.utils import shuffle\n",
    "X_train, Y_train = shuffle(X_train, Y_train, random_state=42)\n",
    "X_test, Y_test = shuffle(X_test, Y_test, random_state=42)"
   ]
  },
  {
   "cell_type": "code",
   "execution_count": 15,
   "metadata": {},
   "outputs": [],
   "source": [
    "from sklearn.preprocessing import StandardScaler\n",
    "scaler = StandardScaler()\n",
    "scaler.fit(X_train)\n",
    "scaled_X_train = scaler.transform(X_train) \n",
    "scaled_X_test = scaler.transform(X_test) "
   ]
  },
  {
   "cell_type": "code",
   "execution_count": 16,
   "metadata": {},
   "outputs": [
    {
     "data": {
      "text/plain": [
       "array([1, 2, 2, ..., 1, 2, 2])"
      ]
     },
     "execution_count": 16,
     "metadata": {},
     "output_type": "execute_result"
    }
   ],
   "source": [
    "Y_train"
   ]
  },
  {
   "cell_type": "markdown",
   "metadata": {},
   "source": [
    "## Principal component analysis"
   ]
  },
  {
   "cell_type": "markdown",
   "metadata": {},
   "source": []
  }
 ],
 "metadata": {
  "kernelspec": {
   "display_name": "Python 3",
   "language": "python",
   "name": "python3"
  },
  "language_info": {
   "codemirror_mode": {
    "name": "ipython",
    "version": 3
   },
   "file_extension": ".py",
   "mimetype": "text/x-python",
   "name": "python",
   "nbconvert_exporter": "python",
   "pygments_lexer": "ipython3",
   "version": "3.11.0"
  }
 },
 "nbformat": 4,
 "nbformat_minor": 2
}
